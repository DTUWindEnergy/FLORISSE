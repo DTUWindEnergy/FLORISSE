{
 "cells": [
  {
   "cell_type": "markdown",
   "metadata": {},
   "source": [
    "# Tuning Book for NREL 5MW Turbine"
   ]
  },
  {
   "cell_type": "code",
   "execution_count": null,
   "metadata": {
    "collapsed": true
   },
   "outputs": [],
   "source": [
    "# Introduction notes"
   ]
  },
  {
   "cell_type": "code",
   "execution_count": null,
   "metadata": {
    "collapsed": true
   },
   "outputs": [],
   "source": []
  },
  {
   "cell_type": "code",
   "execution_count": null,
   "metadata": {
    "collapsed": true
   },
   "outputs": [],
   "source": []
  },
  {
   "cell_type": "code",
   "execution_count": 25,
   "metadata": {
    "collapsed": false
   },
   "outputs": [],
   "source": [
    "# Tune NREL 5MW Turbine\n",
    "# Needed Modules\n",
    "%matplotlib inline\n",
    "import os\n",
    "import time\n",
    "import matplotlib.pyplot as plt\n",
    "import numpy as np\n",
    "import matplotlib.gridspec as gridspec\n",
    "import cPickle as pickle\n",
    "from matplotlib import rcParams\n",
    "rcParams.update({'figure.autolayout': True})"
   ]
  },
  {
   "cell_type": "code",
   "execution_count": 19,
   "metadata": {
    "collapsed": false
   },
   "outputs": [],
   "source": [
    "# Imports from openmdao\n",
    "from openmdao.api import Problem, Group, IndepVarComp\n",
    "# from pyoptsparse import Optimization, OPT, SNOPT\n"
   ]
  },
  {
   "cell_type": "code",
   "execution_count": 3,
   "metadata": {
    "collapsed": false
   },
   "outputs": [],
   "source": [
    "# Imports from FLORIS\n",
    "from florisse.floris import DirectionGroup\n",
    "from florisse import config"
   ]
  },
  {
   "cell_type": "code",
   "execution_count": 17,
   "metadata": {
    "collapsed": false
   },
   "outputs": [],
   "source": [
    "#QUESTIONS FOR JARED\n",
    "###\n",
    "# 1) What is the purpose of the global variables?\n",
    "# 2) Why use smooth versus flat\n",
    "###"
   ]
  },
  {
   "cell_type": "code",
   "execution_count": 22,
   "metadata": {
    "collapsed": false
   },
   "outputs": [],
   "source": [
    "# Load the SOWFA data sets\n",
    "yawPos,avPowersYaw, yawPosI2,avPowersYawI2 = pickle.load( open( os.path.join('data','yawPower.p'), \"rb\" ) )\n",
    "spacing,avPowersSpace = pickle.load( open( os.path.join('data','spacePower.p'), \"rb\" ) )\n",
    "offset4D,avPowersOffset4D = pickle.load( open( os.path.join('data','offset4DPower.p'), \"rb\" ) )\n",
    "offset6D,avPowersOffset6D = pickle.load( open( os.path.join('data','offset6DPower.p'), \"rb\" ) )"
   ]
  },
  {
   "cell_type": "code",
   "execution_count": 12,
   "metadata": {
    "collapsed": true
   },
   "outputs": [],
   "source": [
    "## Set FLORIS parameters for this case\n",
    "\n",
    "model = 'smooth'  # options: 'original', 'smooth'\n",
    "gradients = 'fd'    # options: 'fd', 'exact'\n",
    "flat = True        # if False, will use cosine smoothing factor\n",
    "rotor = True       # if True, will use rotor coupled data\n",
    "tune = False        # if True, will optimize parameters starting with provided values\n",
    "\n",
    "if model == 'smooth':\n",
    "    differentiable = True\n",
    "else:\n",
    "    differentiable = False\n"
   ]
  },
  {
   "cell_type": "code",
   "execution_count": 5,
   "metadata": {
    "collapsed": false
   },
   "outputs": [],
   "source": [
    "## Set models for FLORIS parameters\n",
    "\n",
    "# power\n",
    "pP = 1.88   # control Cp adjustment to yaw\n",
    "\n",
    "# deflection\n",
    "kd = 0.15                       # adjust yaw deflection\n",
    "# global initialWakeDisplacement\n",
    "initialWakeDisplacement = -4.5  # initial rotational displacement\n",
    "bd = -0.01                      # continued deflection from rotation as separation increases\n",
    "# initialWakeAngle = 0.5*3.0\n",
    "initialWakeAngle = 1.5\n",
    "\n",
    "# expansion\n",
    "ke = 0.065                          # adjust overall rate of wake expansion\n",
    "# global me\n",
    "me = np.array([-0.5, 0.22, 1.0])    # adjust individual wake expansion\n",
    "\n",
    "# velocity\n",
    "#global MU\n",
    "MU = np.array([0.5, 1.0, 5.5])      # zone velocity deficit decay rate\n",
    "\n",
    "aU = 5.0                            # offset in decay adjustment\n",
    "bU = 1.66                           # parameter of yaw on decay adjustment\n",
    "cos_spread = 1e12                   # additional deficit based on crosswind relative location"
   ]
  },
  {
   "cell_type": "code",
   "execution_count": 6,
   "metadata": {
    "collapsed": false
   },
   "outputs": [
    {
     "data": {
      "text/plain": [
       "{'CP': array([ 0.        ,  0.15643578,  0.31287155,  0.41306749,  0.44895632,\n",
       "         0.46155227,  0.46330747,  0.46316077,  0.46316077,  0.46280642,\n",
       "         0.45223111,  0.39353012,  0.3424487 ,  0.2979978 ,  0.25931677,\n",
       "         0.22565665,  0.19636572,  0.17087684,  0.1486965 ,  0.12939524,\n",
       "         0.11259934,  0.0979836 ,  0.08526502,  0.07419736,  0.06456631,\n",
       "         0.05618541,  0.04889237,  0.        ]),\n",
       " 'CT': array([ 1.10610965,  1.09515807,  1.0227122 ,  0.9196487 ,  0.8519047 ,\n",
       "         0.80328229,  0.76675469,  0.76209299,  0.76209299,  0.75083241,\n",
       "         0.67210674,  0.52188504,  0.43178758,  0.36443258,  0.31049874,\n",
       "         0.26696686,  0.22986909,  0.19961578,  0.17286245,  0.15081457,\n",
       "         0.13146666,  0.11475968,  0.10129584,  0.0880188 ,  0.07746819,\n",
       "         0.06878621,  0.05977061,  0.        ]),\n",
       " 'wind_speed': array([  0.        ,   2.5       ,   3.52338654,   4.57015961,\n",
       "          5.61693268,   6.66370575,   7.71047882,   8.75725189,\n",
       "          9.80402496,  10.85079803,  11.70448774,  12.25970155,\n",
       "         12.84125247,  13.45038983,  14.08842222,  14.75672029,\n",
       "         15.45671974,  16.18992434,  16.95790922,  17.76232421,\n",
       "         18.60489742,  19.48743891,  20.41184461,  21.38010041,\n",
       "         22.39428636,  23.45658122,  24.56926707,  30.        ])}"
      ]
     },
     "execution_count": 6,
     "metadata": {},
     "output_type": "execute_result"
    }
   ],
   "source": [
    "# Load the Cp table for NREL 5MW\n",
    "NREL5MWCPCT = pickle.load(open('../NREL5MWCPCT_smooth_dict.p'))\n",
    "datasize = NREL5MWCPCT['CP'].size\n",
    "# These are arrays of CP and CT versus wind speed\n",
    "NREL5MWCPCT"
   ]
  },
  {
   "cell_type": "code",
   "execution_count": 7,
   "metadata": {
    "collapsed": true
   },
   "outputs": [],
   "source": [
    "# initialize input variable arrays\n",
    "nTurbines = 2\n",
    "rotorDiameter = np.zeros(nTurbines)\n",
    "axialInduction = np.zeros(nTurbines)\n",
    "Ct = np.zeros(nTurbines)\n",
    "Cp = np.zeros(nTurbines)\n",
    "generatorEfficiency = np.zeros(nTurbines)\n",
    "yaw = np.zeros(nTurbines)\n"
   ]
  },
  {
   "cell_type": "code",
   "execution_count": 8,
   "metadata": {
    "collapsed": false
   },
   "outputs": [
    {
     "name": "stdout",
     "output_type": "stream",
     "text": [
      "initial Cp [ 0.48568738  0.48568738]\n",
      "initial Ct [ 0.88888889  0.88888889]\n"
     ]
    }
   ],
   "source": [
    "# define initial values\n",
    "for turbI in range(0, nTurbines):\n",
    "    rotorDiameter[turbI] = 126.4            # m\n",
    "    axialInduction[turbI] = 1.0/3.0\n",
    "    Ct[turbI] = 4.0*axialInduction[turbI]*(1.0-axialInduction[turbI])\n",
    "    Cp[turbI] = (0.7737/0.944) * 4.0 * 1.0/3.0 * np.power((1. - 1.0/3.0), 2)\n",
    "    generatorEfficiency[turbI] = 0.944\n",
    "    yaw[turbI] = 0.     # deg.\n",
    "print \"initial Cp\", Cp\n",
    "print \"initial Ct\", Ct\n"
   ]
  },
  {
   "cell_type": "code",
   "execution_count": 9,
   "metadata": {
    "collapsed": false
   },
   "outputs": [
    {
     "data": {
      "text/plain": [
       "239.9999871427296"
      ]
     },
     "execution_count": 9,
     "metadata": {},
     "output_type": "execute_result"
    }
   ],
   "source": [
    "# Inflow conditions\n",
    "wind_speed = 8.1\n",
    "air_density = 1.1716 \n",
    "wind_direction = 270.-0.523599*180./np.pi \n",
    "wind_direction"
   ]
  },
  {
   "cell_type": "code",
   "execution_count": 10,
   "metadata": {
    "collapsed": false
   },
   "outputs": [],
   "source": [
    "# Definte the FLORIS model within openmdao\n",
    "\n",
    "global prob\n",
    "prob = Problem(root=Group())\n"
   ]
  },
  {
   "cell_type": "code",
   "execution_count": 13,
   "metadata": {
    "collapsed": false
   },
   "outputs": [
    {
     "data": {
      "text/plain": [
       "<florisse.floris.DirectionGroup at 0x2ae43627f6d0>"
      ]
     },
     "execution_count": 13,
     "metadata": {},
     "output_type": "execute_result"
    }
   ],
   "source": [
    "# Add a FLORIS model\n",
    "prob.root.add('FLORIS', DirectionGroup(nTurbines, use_rotor_components=rotor,\n",
    "                                           datasize=datasize, differentiable=differentiable), promotes=['*'])"
   ]
  },
  {
   "cell_type": "code",
   "execution_count": 14,
   "metadata": {
    "collapsed": false
   },
   "outputs": [
    {
     "data": {
      "text/plain": [
       "{}"
      ]
     },
     "execution_count": 14,
     "metadata": {},
     "output_type": "execute_result"
    }
   ],
   "source": [
    "# set up problem\n",
    "prob.setup(check=False)"
   ]
  },
  {
   "cell_type": "code",
   "execution_count": 16,
   "metadata": {
    "collapsed": true
   },
   "outputs": [],
   "source": [
    "# Add Cp-Ct information\n",
    "if rotor:\n",
    "    prob['gen_params:windSpeedToCPCT_CP'] = NREL5MWCPCT['CP']\n",
    "    prob['gen_params:windSpeedToCPCT_CT'] = NREL5MWCPCT['CT']\n",
    "    prob['gen_params:windSpeedToCPCT_wind_speed'] = NREL5MWCPCT['wind_speed']\n",
    "    prob['floris_params:useWakeAngle'] = True\n",
    "    prob['floris_params:adjustInitialWakeDiamToYaw'] = False\n",
    "    prob['floris_params:axialIndProvided'] = False\n",
    "    prob['floris_params:useaUbU'] = True"
   ]
  },
  {
   "cell_type": "code",
   "execution_count": 17,
   "metadata": {
    "collapsed": true
   },
   "outputs": [],
   "source": [
    "# Assign all neccessary FLORIS parameters\n",
    "prob['gen_params:pP'] = pP\n",
    "prob['floris_params:kd'] = kd\n",
    "prob['floris_params:initialWakeAngle'] = initialWakeAngle\n",
    "prob['floris_params:initialWakeDisplacement'] = initialWakeDisplacement\n",
    "prob['floris_params:bd'] = bd\n",
    "prob['floris_params:ke'] = ke\n",
    "prob['floris_params:me'] = me\n",
    "prob['floris_params:MU'] = MU\n",
    "prob['floris_params:aU'] = aU\n",
    "prob['floris_params:bU'] = bU\n",
    "prob['floris_params:cos_spread'] = cos_spread\n",
    "prob['rotorDiameter'] = rotorDiameter\n",
    "prob['axialInduction'] = axialInduction\n",
    "prob['generatorEfficiency'] = generatorEfficiency\n",
    "prob['wind_speed'] = wind_speed\n",
    "prob['air_density'] = air_density\n",
    "prob['wind_direction'] = wind_direction"
   ]
  },
  {
   "cell_type": "code",
   "execution_count": 18,
   "metadata": {
    "collapsed": true
   },
   "outputs": [],
   "source": []
  },
  {
   "cell_type": "markdown",
   "metadata": {},
   "source": [
    "### Compare to 4D yaw powers"
   ]
  },
  {
   "cell_type": "code",
   "execution_count": 52,
   "metadata": {
    "collapsed": false
   },
   "outputs": [],
   "source": [
    "# Set the turbine positions\n",
    "prob['turbineX'] = np.array([1118.1, 1556.0])\n",
    "prob['turbineY'] = np.array([1279.5, 1532.3])\n",
    "FLORISpower = list()\n",
    "for yaw1 in yawPos:\n",
    "    prob['yaw0'] = np.array([yaw1, 0.0])\n",
    "    prob.run()\n",
    "    FLORISpower.append(list(prob['wtPower0']))\n",
    "    time.sleep(0.001)\n",
    "FLORISpower = np.array(FLORISpower)"
   ]
  },
  {
   "cell_type": "code",
   "execution_count": 53,
   "metadata": {
    "collapsed": false
   },
   "outputs": [
    {
     "data": {
      "text/plain": [
       "<matplotlib.text.Text at 0x2ae43b4ec8d0>"
      ]
     },
     "execution_count": 53,
     "metadata": {},
     "output_type": "execute_result"
    },
    {
     "data": {
      "image/png": "[encoded data removed]",
      "text/plain": [
       "<matplotlib.figure.Figure at 0x2ae43ad13390>"
      ]
     },
     "metadata": {},
     "output_type": "display_data"
    }
   ],
   "source": [
    "# Compare the power\n",
    "fig, axarr = plt.subplots(2,2,figsize=(6,6))\n",
    "\n",
    "# Plot turbine 0\n",
    "ax = axarr[0,0]\n",
    "ax.plot(yawPos,avPowersYaw[:,0]/1000.,'x--',label='SOWFA')\n",
    "ax.plot(yawPos,FLORISpower[:,0],'o-',label='FLORIS')\n",
    "ax.set_title('Turbine 0')\n",
    "ax.legend()\n",
    "\n",
    "ax = axarr[0,1]\n",
    "ax.plot(yawPos,100 * (FLORISpower[:,0] - avPowersYaw[:,0]/1000.)/(avPowersYaw[:,0]/1000.),'x--',label='SOWFA')\n",
    "ax.set_title('Turbine 0 % Error')\n",
    "\n",
    "# Plot turbine 1\n",
    "ax = axarr[1,0]\n",
    "ax.plot(yawPos,avPowersYaw[:,1]/1000.,'x--',label='SOWFA')\n",
    "ax.plot(yawPos,FLORISpower[:,1],'o-',label='FLORIS')\n",
    "ax.set_title('Turbine 1')\n",
    "ax.legend()\n",
    "\n",
    "ax = axarr[1,1]\n",
    "ax.plot(yawPos,100 * (FLORISpower[:,1] - avPowersYaw[:,1]/1000.)/(avPowersYaw[:,1]/1000.),'x--',label='SOWFA')\n",
    "ax.set_title('Turbine 1 % Error')"
   ]
  },
  {
   "cell_type": "code",
   "execution_count": 47,
   "metadata": {
    "collapsed": true
   },
   "outputs": [],
   "source": [
    "### Compare to 7D (ICOWES2) yaw powers"
   ]
  },
  {
   "cell_type": "code",
   "execution_count": 50,
   "metadata": {
    "collapsed": true
   },
   "outputs": [],
   "source": [
    "prob['turbineX'] = np.array([1118.1, 1881.9])\n",
    "prob['turbineY'] = np.array([1279.5, 1720.5])\n",
    "FLORISpower = list()\n",
    "for yaw1 in yawPosI2:\n",
    "    prob['yaw0'] = np.array([yaw1, 0.0])\n",
    "    prob.run()\n",
    "    FLORISpower.append(list(prob['wtPower0']))\n",
    "    time.sleep(0.001)\n",
    "FLORISpower = np.array(FLORISpower)"
   ]
  },
  {
   "cell_type": "code",
   "execution_count": 51,
   "metadata": {
    "collapsed": false
   },
   "outputs": [
    {
     "data": {
      "text/plain": [
       "<matplotlib.text.Text at 0x2ae43b1ea510>"
      ]
     },
     "execution_count": 51,
     "metadata": {},
     "output_type": "execute_result"
    },
    {
     "data": {
      "image/png": "[encoded data removed]",
      "text/plain": [
       "<matplotlib.figure.Figure at 0x2ae43af92d10>"
      ]
     },
     "metadata": {},
     "output_type": "display_data"
    }
   ],
   "source": [
    "# Compare the power\n",
    "fig, axarr = plt.subplots(2,2,figsize=(6,6))\n",
    "\n",
    "# Plot turbine 0\n",
    "ax = axarr[0,0]\n",
    "ax.plot(yawPos,avPowersYawI2[:,0]/1000.,'x--',label='SOWFA')\n",
    "ax.plot(yawPos,FLORISpower[:,0],'o-',label='FLORIS')\n",
    "ax.set_title('Turbine 0')\n",
    "ax.legend()\n",
    "\n",
    "ax = axarr[0,1]\n",
    "ax.plot(yawPos,100 * (FLORISpower[:,0] - avPowersYawI2[:,0]/1000.)/(avPowersYawI2[:,0]/1000.),'x--',label='SOWFA')\n",
    "ax.set_title('Turbine 0 % Error')\n",
    "\n",
    "# Plot turbine 1\n",
    "ax = axarr[1,0]\n",
    "ax.plot(yawPos,avPowersYawI2[:,1]/1000.,'x--',label='SOWFA')\n",
    "ax.plot(yawPos,FLORISpower[:,1],'o-',label='FLORIS')\n",
    "ax.set_title('Turbine 1')\n",
    "ax.legend()\n",
    "\n",
    "ax = axarr[1,1]\n",
    "ax.plot(yawPos,100 * (FLORISpower[:,1] - avPowersYawI2[:,1]/1000.)/(avPowersYawI2[:,1]/1000.),'x--',label='SOWFA')\n",
    "ax.set_title('Turbine 1 % Error')"
   ]
  },
  {
   "cell_type": "code",
   "execution_count": 54,
   "metadata": {
    "collapsed": false
   },
   "outputs": [
    {
     "data": {
      "text/plain": [
       "([2, 4, 6, 8, 10], array([[ 1903928.33500838,   411080.5958299 ],\n",
       "        [ 1952278.87249681,   611342.4559564 ],\n",
       "        [ 1965798.28295707,   807479.78045201],\n",
       "        [ 1971041.71296782,   958477.27030176],\n",
       "        [ 1973661.40318508,  1092063.69732993]]))"
      ]
     },
     "execution_count": 54,
     "metadata": {},
     "output_type": "execute_result"
    }
   ],
   "source": [
    "spacing,avPowersSpace"
   ]
  }
 ],
 "metadata": {
  "kernelspec": {
   "display_name": "Python 2",
   "language": "python",
   "name": "python2"
  },
  "language_info": {
   "codemirror_mode": {
    "name": "ipython",
    "version": 2
   },
   "file_extension": ".py",
   "mimetype": "text/x-python",
   "name": "python",
   "nbconvert_exporter": "python",
   "pygments_lexer": "ipython2",
   "version": "2.7.11"
  }
 },
 "nbformat": 4,
 "nbformat_minor": 0
}
